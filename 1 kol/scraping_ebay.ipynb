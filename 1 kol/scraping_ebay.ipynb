{
  "nbformat": 4,
  "nbformat_minor": 0,
  "metadata": {
    "colab": {
      "provenance": []
    },
    "kernelspec": {
      "name": "python3",
      "display_name": "Python 3"
    },
    "language_info": {
      "name": "python"
    }
  },
  "cells": [
    {
      "cell_type": "code",
      "execution_count": 70,
      "metadata": {
        "colab": {
          "base_uri": "https://localhost:8080/"
        },
        "id": "21RdAgG16PSU",
        "outputId": "26246289-af59-4689-ad82-ababf6e85053"
      },
      "outputs": [
        {
          "output_type": "stream",
          "name": "stdout",
          "text": [
            "\u001b[33m\r0% [Working]\u001b[0m\r            \rHit:1 https://cloud.r-project.org/bin/linux/ubuntu jammy-cran40/ InRelease\n",
            "\u001b[33m\r0% [Waiting for headers] [Waiting for headers] [Connecting to ppa.launchpadcontent.net (185.125.190.\u001b[0m\r                                                                                                    \rHit:2 http://archive.ubuntu.com/ubuntu jammy InRelease\n",
            "\r                                                                                                    \rHit:3 http://security.ubuntu.com/ubuntu jammy-security InRelease\n",
            "\u001b[33m\r0% [Waiting for headers] [Connecting to ppa.launchpadcontent.net (185.125.190.52)] [Waiting for head\u001b[0m\r                                                                                                    \rHit:4 https://developer.download.nvidia.com/compute/cuda/repos/ubuntu2204/x86_64  InRelease\n",
            "Hit:5 http://archive.ubuntu.com/ubuntu jammy-updates InRelease\n",
            "Hit:6 http://archive.ubuntu.com/ubuntu jammy-backports InRelease\n",
            "Hit:7 https://ppa.launchpadcontent.net/c2d4u.team/c2d4u4.0+/ubuntu jammy InRelease\n",
            "Hit:8 https://ppa.launchpadcontent.net/deadsnakes/ppa/ubuntu jammy InRelease\n",
            "Hit:9 https://ppa.launchpadcontent.net/graphics-drivers/ppa/ubuntu jammy InRelease\n",
            "Hit:10 https://ppa.launchpadcontent.net/ubuntugis/ppa/ubuntu jammy InRelease\n",
            "Reading package lists... Done\n",
            "Building dependency tree... Done\n",
            "Reading state information... Done\n",
            "27 packages can be upgraded. Run 'apt list --upgradable' to see them.\n",
            "Reading package lists... Done\n",
            "Building dependency tree... Done\n",
            "Reading state information... Done\n",
            "chromium-chromedriver is already the newest version (1:85.0.4183.83-0ubuntu2.22.04.1).\n",
            "0 upgraded, 0 newly installed, 0 to remove and 27 not upgraded.\n",
            "Requirement already satisfied: selenium in /usr/local/lib/python3.10/dist-packages (4.15.2)\n",
            "Requirement already satisfied: urllib3[socks]<3,>=1.26 in /usr/local/lib/python3.10/dist-packages (from selenium) (2.0.7)\n",
            "Requirement already satisfied: trio~=0.17 in /usr/local/lib/python3.10/dist-packages (from selenium) (0.23.1)\n",
            "Requirement already satisfied: trio-websocket~=0.9 in /usr/local/lib/python3.10/dist-packages (from selenium) (0.11.1)\n",
            "Requirement already satisfied: certifi>=2021.10.8 in /usr/local/lib/python3.10/dist-packages (from selenium) (2023.7.22)\n",
            "Requirement already satisfied: attrs>=20.1.0 in /usr/local/lib/python3.10/dist-packages (from trio~=0.17->selenium) (23.1.0)\n",
            "Requirement already satisfied: sortedcontainers in /usr/local/lib/python3.10/dist-packages (from trio~=0.17->selenium) (2.4.0)\n",
            "Requirement already satisfied: idna in /usr/local/lib/python3.10/dist-packages (from trio~=0.17->selenium) (3.4)\n",
            "Requirement already satisfied: outcome in /usr/local/lib/python3.10/dist-packages (from trio~=0.17->selenium) (1.3.0.post0)\n",
            "Requirement already satisfied: sniffio>=1.3.0 in /usr/local/lib/python3.10/dist-packages (from trio~=0.17->selenium) (1.3.0)\n",
            "Requirement already satisfied: exceptiongroup>=1.0.0rc9 in /usr/local/lib/python3.10/dist-packages (from trio~=0.17->selenium) (1.1.3)\n",
            "Requirement already satisfied: wsproto>=0.14 in /usr/local/lib/python3.10/dist-packages (from trio-websocket~=0.9->selenium) (1.2.0)\n",
            "Requirement already satisfied: pysocks!=1.5.7,<2.0,>=1.5.6 in /usr/local/lib/python3.10/dist-packages (from urllib3[socks]<3,>=1.26->selenium) (1.7.1)\n",
            "Requirement already satisfied: h11<1,>=0.9.0 in /usr/local/lib/python3.10/dist-packages (from wsproto>=0.14->trio-websocket~=0.9->selenium) (0.14.0)\n"
          ]
        }
      ],
      "source": [
        "!apt update\n",
        "!apt install chromium-chromedriver\n",
        "!pip install selenium"
      ]
    },
    {
      "cell_type": "code",
      "source": [
        "from selenium import webdriver\n",
        "from selenium.webdriver.common.by import By\n",
        "import time\n",
        "import pandas as pd\n",
        "import matplotlib.pyplot as plt"
      ],
      "metadata": {
        "id": "Kup0bD_Z7B6S"
      },
      "execution_count": 71,
      "outputs": []
    },
    {
      "cell_type": "code",
      "source": [
        "options = webdriver.ChromeOptions()\n",
        "options.add_argument('--headless')\n",
        "options.add_argument('--no-sandbox')\n",
        "options.add_argument('--disable-dev-shm-usage')\n",
        "# open it, go to a website, and get results\n",
        "\n",
        "wd = webdriver.Chrome(options=options)\n",
        "target_url = 'https://www.ebay.com/sch/i.html?_from=R40&_trksid=p2334524.m570.l1313&_nkw=Computer+graphic+cards&_sacat=0&LH_TitleDesc=0&_odkw=Graphic+cards&_osacat=0'\n",
        "wd.get(target_url)"
      ],
      "metadata": {
        "id": "xjzV88n-7Ekq"
      },
      "execution_count": 72,
      "outputs": []
    },
    {
      "cell_type": "code",
      "source": [
        "#items = wd.find_elements(By.CLASS_NAME, \"s-item\")\n",
        "\n",
        "gpus = []\n",
        "\n",
        "for i in range(1, 3):\n",
        "  items = wd.find_elements(By.CLASS_NAME, \"s-item\")\n",
        "  for i in items:\n",
        "    try:\n",
        "      review_class = i.find_element(By.CLASS_NAME, \"s-item__reviews\")\n",
        "      review = review_class.find_element(By.TAG_NAME, \"span\").text.split(\" \")[0]\n",
        "      title = i.find_element(By.CLASS_NAME, \"s-item__title\").text\n",
        "      price = i.find_element(By.CLASS_NAME, \"s-item__price\").text\n",
        "\n",
        "      gpu = {\n",
        "          'title': title,\n",
        "          'price': price,\n",
        "          'review': review\n",
        "      }\n",
        "\n",
        "      gpus.append(gpu)\n",
        "    except:\n",
        "      review = None\n",
        "\n",
        "  button = wd.find_element(By.CLASS_NAME, \"s-pagination\")\n",
        "  next = button.find_element(By.CLASS_NAME, \"pagination__next\")\n",
        "  next.click()\n",
        "\n",
        "df = pd.DataFrame(gpus)\n",
        "print(df)\n",
        ""
      ],
      "metadata": {
        "colab": {
          "base_uri": "https://localhost:8080/"
        },
        "id": "KMj6UPkk7Siq",
        "outputId": "6395eac2-f270-4eb0-de45-d16f6488242e"
      },
      "execution_count": 74,
      "outputs": [
        {
          "output_type": "stream",
          "name": "stdout",
          "text": [
            "                                               title    price review\n",
            "0  HP Nvidia NVS 295 Low Pro Dual Monitor Display...   $21.97    5.0\n",
            "1  Gigabyte GT 1030 GDDR5 GV-N1030D5-2GL 2gb Comp...   $82.99    5.0\n",
            "2  GIGABYTE NVIDIA GeForce RTX 2070 8GB GDDR6 Gra...  $170.00    5.0\n",
            "3  HP NVIDIA NVS 310 SFF PCIe x16 Dual DisplayPor...   $24.99    5.0\n",
            "4  AMD Radeon HD 7570 1GB GDDR5 DVI HDMI Cable SF...   $21.59    3.5\n",
            "5  MSI GeForce GTX 1050 Aero ITX 2GB GDDR5 Graphi...   $55.00    5.0\n",
            "6  LOT 2 Dell AMD HD 8490 Video Card 1GB DisplayP...   $24.00    4.5\n",
            "7  Lot of 2 Dell AMD HD 8490 Video Card DisplayPo...   $13.00    4.5\n",
            "8  EVGA GeForce GTX 1660 Ti XC Ultra Gaming Graph...  $130.00    4.0\n",
            "9  MSI N210-512D2 GeForce 210 PCI Express GRAPHIC...   $14.99    5.0\n"
          ]
        }
      ]
    }
  ]
}